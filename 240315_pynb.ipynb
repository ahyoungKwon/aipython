{
  "nbformat": 4,
  "nbformat_minor": 0,
  "metadata": {
    "colab": {
      "provenance": []
    },
    "kernelspec": {
      "name": "python3",
      "display_name": "Python 3"
    },
    "language_info": {
      "name": "python"
    }
  },
  "cells": [
    {
      "cell_type": "markdown",
      "source": [
        "두 수를 입력 받아서 합을 출력하는 프로그램 와!"
      ],
      "metadata": {
        "id": "BNlbACMu__re"
      }
    },
    {
      "cell_type": "code",
      "execution_count": 9,
      "metadata": {
        "colab": {
          "base_uri": "https://localhost:8080/"
        },
        "id": "A4QVqCQd7JhS",
        "outputId": "e925a2ac-3d5f-447c-a224-43ad9d6be300"
      },
      "outputs": [
        {
          "output_type": "stream",
          "name": "stdout",
          "text": [
            "두 정수 a와 b를 입력하세요: 2 3\n",
            "5\n"
          ]
        }
      ],
      "source": [
        "# 두 정수 A와 B 입력 받기\n",
        "A, B = map(int, input(\"두 정수 a와 b를 입력하세요: \").split())\n",
        "\n",
        "# A와 B의 합 구하기\n",
        "sum = A + B\n",
        "\n",
        "# 합 출력\n",
        "print(sum)\n"
      ]
    },
    {
      "cell_type": "code",
      "source": [
        "print(\"hello world\")"
      ],
      "metadata": {
        "colab": {
          "base_uri": "https://localhost:8080/"
        },
        "id": "1qKip4HQ_hye",
        "outputId": "9b1ccf62-8cf2-4044-a3d1-5becb6862cc9"
      },
      "execution_count": 11,
      "outputs": [
        {
          "output_type": "stream",
          "name": "stdout",
          "text": [
            "hello world\n"
          ]
        }
      ]
    },
    {
      "cell_type": "code",
      "source": [
        "# oj 1001번\n",
        "A, B = map(int, input().split())\n",
        "\n",
        "if A > B:\n",
        "    print(\">\")\n",
        "elif A < B:\n",
        "    print(\"<\")\n",
        "else:\n",
        "    print(\"=\")\n",
        "\n",
        ""
      ],
      "metadata": {
        "colab": {
          "base_uri": "https://localhost:8080/"
        },
        "id": "aUj3ReKS_lqu",
        "outputId": "9236831b-39df-4e0c-9bb8-6cd3331de7c6"
      },
      "execution_count": 10,
      "outputs": [
        {
          "output_type": "stream",
          "name": "stdout",
          "text": [
            "1 2\n",
            "<\n"
          ]
        }
      ]
    },
    {
      "cell_type": "code",
      "source": [],
      "metadata": {
        "id": "sJ0hOm47Cjje"
      },
      "execution_count": null,
      "outputs": []
    }
  ]
}