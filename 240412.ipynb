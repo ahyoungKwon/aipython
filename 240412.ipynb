{
  "nbformat": 4,
  "nbformat_minor": 0,
  "metadata": {
    "colab": {
      "provenance": [],
      "authorship_tag": "ABX9TyNEyZkrkqrHfe8C90nuy4z8",
      "include_colab_link": true
    },
    "kernelspec": {
      "name": "python3",
      "display_name": "Python 3"
    },
    "language_info": {
      "name": "python"
    }
  },
  "cells": [
    {
      "cell_type": "markdown",
      "metadata": {
        "id": "view-in-github",
        "colab_type": "text"
      },
      "source": [
        "<a href=\"https://colab.research.google.com/github/ahyoungKwon/aipython/blob/main/240412.ipynb\" target=\"_parent\"><img src=\"https://colab.research.google.com/assets/colab-badge.svg\" alt=\"Open In Colab\"/></a>"
      ]
    },
    {
      "cell_type": "code",
      "source": [
        "a = [10, 20, ['one', 'two']]\n",
        "print(a[2][0], a[2][1])"
      ],
      "metadata": {
        "colab": {
          "base_uri": "https://localhost:8080/"
        },
        "id": "v-dRu-q79crG",
        "outputId": "f83871f9-d053-4e06-c95e-faf74a0f0fba"
      },
      "execution_count": 19,
      "outputs": [
        {
          "output_type": "stream",
          "name": "stdout",
          "text": [
            "one two\n"
          ]
        }
      ]
    },
    {
      "cell_type": "code",
      "source": [
        "#'apple' 요소 출력\n",
        "fruits = [\"banana\", \"apple\", \"orange\", \"cherry\"]\n",
        "print(fruits[1])"
      ],
      "metadata": {
        "colab": {
          "base_uri": "https://localhost:8080/"
        },
        "id": "1aqEUp11-dBF",
        "outputId": "0fcaa6cd-4aa8-49c5-e483-c2e5e66fc870"
      },
      "execution_count": 4,
      "outputs": [
        {
          "output_type": "stream",
          "name": "stdout",
          "text": [
            "apple\n"
          ]
        }
      ]
    },
    {
      "cell_type": "code",
      "source": [
        "#마지막 요소 출력\n",
        "numbers = [10, 20, 30, 40, 50]\n",
        "print(numbers[-1])"
      ],
      "metadata": {
        "colab": {
          "base_uri": "https://localhost:8080/"
        },
        "id": "jZorQRVcCnmu",
        "outputId": "a5ff29cd-5744-4800-9af6-94748068cb21"
      },
      "execution_count": 5,
      "outputs": [
        {
          "output_type": "stream",
          "name": "stdout",
          "text": [
            "50\n"
          ]
        }
      ]
    },
    {
      "cell_type": "code",
      "source": [
        "#바나나를 포도로 변경\n",
        "fruits = [\"apple\",\"cherry\", \"banana\"]\n",
        "fruits[2] = \"grape\"\n",
        "print(fruits)"
      ],
      "metadata": {
        "colab": {
          "base_uri": "https://localhost:8080/"
        },
        "id": "JrwYwng0Cvdu",
        "outputId": "20ca9ee0-8075-48d6-8a52-5504f76b7310"
      },
      "execution_count": 6,
      "outputs": [
        {
          "output_type": "stream",
          "name": "stdout",
          "text": [
            "['apple', 'cherry', 'grape']\n"
          ]
        }
      ]
    },
    {
      "cell_type": "code",
      "source": [
        "#딸기 추가\n",
        "fruits = [\"apple\", \"banana\", \"cherry\"]\n",
        "fruits.append(\"strawberry\")\n",
        "print(fruits)"
      ],
      "metadata": {
        "colab": {
          "base_uri": "https://localhost:8080/"
        },
        "id": "SPOmeSoYDCZN",
        "outputId": "7696aa8d-b78b-491c-df79-cbeeafd73772"
      },
      "execution_count": 8,
      "outputs": [
        {
          "output_type": "stream",
          "name": "stdout",
          "text": [
            "['apple', 'banana', 'cherry', 'strawberry']\n"
          ]
        }
      ]
    },
    {
      "cell_type": "code",
      "source": [
        "#30 제거\n",
        "numbers = [10, 20, 30, 40, 50]\n",
        "numbers.remove(30)\n",
        "print(numbers)"
      ],
      "metadata": {
        "colab": {
          "base_uri": "https://localhost:8080/"
        },
        "id": "CrhpTZHODNge",
        "outputId": "42d7a066-be1c-4b3c-d9be-fb5f98d63eeb"
      },
      "execution_count": 10,
      "outputs": [
        {
          "output_type": "stream",
          "name": "stdout",
          "text": [
            "[10, 20, 40, 50]\n"
          ]
        }
      ]
    },
    {
      "cell_type": "code",
      "source": [
        "#리스트 길이 출력\n",
        "numbers = [5, 10, 15, 20]\n",
        "len(numbers)"
      ],
      "metadata": {
        "colab": {
          "base_uri": "https://localhost:8080/"
        },
        "id": "oCjt8oHCDa6W",
        "outputId": "38f4e330-b5fa-4571-d554-fa19f6506456"
      },
      "execution_count": 12,
      "outputs": [
        {
          "output_type": "execute_result",
          "data": {
            "text/plain": [
              "4"
            ]
          },
          "metadata": {},
          "execution_count": 12
        }
      ]
    },
    {
      "cell_type": "code",
      "source": [
        "#가장 작은 값/가장 큰 값 출력\n",
        "numbers = [10, 5, 8, 3, 15]\n",
        "print(min(numbers))\n",
        "print(max(numbers))"
      ],
      "metadata": {
        "colab": {
          "base_uri": "https://localhost:8080/"
        },
        "id": "2OpgwTc7DrC3",
        "outputId": "8df6a168-478a-443d-8552-903478a5175e"
      },
      "execution_count": 13,
      "outputs": [
        {
          "output_type": "stream",
          "name": "stdout",
          "text": [
            "3\n",
            "15\n"
          ]
        }
      ]
    },
    {
      "cell_type": "code",
      "source": [
        "#모든 요소의 합 출력\n",
        "numbers = [10, 20, 30, 40, 50]\n",
        "print(sum(numbers))"
      ],
      "metadata": {
        "colab": {
          "base_uri": "https://localhost:8080/"
        },
        "id": "UJMb5CVeEAXV",
        "outputId": "f2b27436-13df-40be-d66d-7c3e46c579b0"
      },
      "execution_count": 14,
      "outputs": [
        {
          "output_type": "stream",
          "name": "stdout",
          "text": [
            "150\n"
          ]
        }
      ]
    },
    {
      "cell_type": "code",
      "source": [
        "#모든 요소를 제곱하여 새로운 리스트 생성\n",
        "numbers = [1, 2, 3, 4, 5]\n",
        "new_list = []\n",
        "for i in numbers :\n",
        "  new_list.append(i**2)\n",
        "print(new_list)"
      ],
      "metadata": {
        "colab": {
          "base_uri": "https://localhost:8080/"
        },
        "id": "zwyIJ6UoEGum",
        "outputId": "58767127-58a4-4ed7-feb9-c5066c6729eb"
      },
      "execution_count": 17,
      "outputs": [
        {
          "output_type": "stream",
          "name": "stdout",
          "text": [
            "[1, 4, 9, 16, 25]\n"
          ]
        }
      ]
    },
    {
      "cell_type": "code",
      "source": [
        "#사과의 개수 출력\n",
        "fruits = [\"apple\", \"banana\", \"apple\", \"cherry\", \"apple\"]\n",
        "print(fruits.count(\"apple\"))"
      ],
      "metadata": {
        "colab": {
          "base_uri": "https://localhost:8080/"
        },
        "id": "hnDpNpaxEkKb",
        "outputId": "5965c225-6a1f-45ee-dcf7-da5304ce5216"
      },
      "execution_count": 16,
      "outputs": [
        {
          "output_type": "stream",
          "name": "stdout",
          "text": [
            "3\n"
          ]
        }
      ]
    },
    {
      "cell_type": "code",
      "source": [
        "a = 7//2\n",
        "print(a)"
      ],
      "metadata": {
        "colab": {
          "base_uri": "https://localhost:8080/"
        },
        "id": "ZOJ61qcpE4SN",
        "outputId": "7c7e8a78-3d22-478e-8c1f-9d8b8dcafd9d"
      },
      "execution_count": 18,
      "outputs": [
        {
          "output_type": "stream",
          "name": "stdout",
          "text": [
            "3\n"
          ]
        }
      ]
    },
    {
      "cell_type": "code",
      "source": [
        "#과제 - 미완\n",
        "score = []\n",
        "for i in range (3):\n",
        "  score1 = input(\"학생의 점수를 입력하세요.\")\n",
        "  if not score1.isdigit():\n",
        "        print(\"정수형 데이터를 입력해주세요.\")\n",
        "        break\n",
        "  score.append(int(score1))\n",
        "\n",
        "if len(score) == 3:\n",
        "  print(\"입력 데이터 출력:\", score)\n",
        "  print(\"합계 :\", sum(score))\n",
        "  print(\"인원수 :\", min(score))\n",
        "  print(\"평균 : \", sum(score)/len(score))"
      ],
      "metadata": {
        "colab": {
          "base_uri": "https://localhost:8080/"
        },
        "id": "LbPXp4ufGzBW",
        "outputId": "9ffd110b-d911-4818-e9e8-080a05c711bc"
      },
      "execution_count": 40,
      "outputs": [
        {
          "output_type": "stream",
          "name": "stdout",
          "text": [
            "학생의 점수를 입력하세요.dfkld\n",
            "정수형 데이터를 입력해주세요.\n"
          ]
        }
      ]
    },
    {
      "cell_type": "code",
      "source": [
        "def square(x):\n",
        "  return x**2"
      ],
      "metadata": {
        "id": "pqNPRcPRLTR_"
      },
      "execution_count": 20,
      "outputs": []
    },
    {
      "cell_type": "code",
      "source": [
        "ret = square(5)\n",
        "print(ret)"
      ],
      "metadata": {
        "colab": {
          "base_uri": "https://localhost:8080/"
        },
        "id": "IbZr-B4qLbLe",
        "outputId": "b1593731-45a4-4c2c-e22d-6caa949d48ab"
      },
      "execution_count": 21,
      "outputs": [
        {
          "output_type": "stream",
          "name": "stdout",
          "text": [
            "25\n"
          ]
        }
      ]
    },
    {
      "cell_type": "code",
      "source": [
        "def square(numbers):\n",
        "  newlist = []\n",
        "  for num in numbers :\n",
        "    newlist.append(num**2)\n",
        "  return newlist"
      ],
      "metadata": {
        "id": "xLiUMhsmLhRW"
      },
      "execution_count": 31,
      "outputs": []
    },
    {
      "cell_type": "code",
      "source": [
        "new = square([1, 2, 3, 4, 5])\n",
        "print(new)"
      ],
      "metadata": {
        "colab": {
          "base_uri": "https://localhost:8080/"
        },
        "id": "tERhyvboMBCO",
        "outputId": "b300692f-7e7f-4f7a-ad6b-b1ade670ff93"
      },
      "execution_count": 32,
      "outputs": [
        {
          "output_type": "stream",
          "name": "stdout",
          "text": [
            "[1, 4, 9, 16, 25]\n"
          ]
        }
      ]
    },
    {
      "cell_type": "code",
      "source": [
        "#bmi 함수 만들기\n",
        "def bmi(height, weight):\n",
        "  result = weight/((height*0.01)**2)\n",
        "  return result"
      ],
      "metadata": {
        "id": "c8Sgv9xtOPa_"
      },
      "execution_count": 35,
      "outputs": []
    },
    {
      "cell_type": "code",
      "source": [
        "mybmi = bmi(158, 46)\n",
        "print(mybmi)"
      ],
      "metadata": {
        "colab": {
          "base_uri": "https://localhost:8080/"
        },
        "id": "atnqznrXPh2Y",
        "outputId": "900be80d-52dc-4fce-a867-45773fb79798"
      },
      "execution_count": 36,
      "outputs": [
        {
          "output_type": "stream",
          "name": "stdout",
          "text": [
            "18.426534209261334\n"
          ]
        }
      ]
    },
    {
      "cell_type": "code",
      "source": [],
      "metadata": {
        "id": "dQ6EQdYRPux7"
      },
      "execution_count": null,
      "outputs": []
    }
  ]
}