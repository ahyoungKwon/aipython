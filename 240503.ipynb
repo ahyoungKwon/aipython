{
  "nbformat": 4,
  "nbformat_minor": 0,
  "metadata": {
    "colab": {
      "provenance": [],
      "authorship_tag": "ABX9TyM4ySdxU+5L9OzMwJ4XlZIi",
      "include_colab_link": true
    },
    "kernelspec": {
      "name": "python3",
      "display_name": "Python 3"
    },
    "language_info": {
      "name": "python"
    }
  },
  "cells": [
    {
      "cell_type": "markdown",
      "metadata": {
        "id": "view-in-github",
        "colab_type": "text"
      },
      "source": [
        "<a href=\"https://colab.research.google.com/github/ahyoungKwon/aipython/blob/main/240503.ipynb\" target=\"_parent\"><img src=\"https://colab.research.google.com/assets/colab-badge.svg\" alt=\"Open In Colab\"/></a>"
      ]
    },
    {
      "cell_type": "code",
      "execution_count": 2,
      "metadata": {
        "id": "-1NmKHqI9y3P",
        "colab": {
          "base_uri": "https://localhost:8080/"
        },
        "outputId": "1034d267-96bb-4ef1-9e99-29c56d8ee422"
      },
      "outputs": [
        {
          "output_type": "stream",
          "name": "stdout",
          "text": [
            "[1 3 5 7 9]\n"
          ]
        }
      ],
      "source": [
        "# Lab 1-1\n",
        "import numpy as np\n",
        "arr = np.arange(1, 10, 2)\n",
        "print(arr)"
      ]
    },
    {
      "cell_type": "code",
      "source": [
        "# Lab 1-2\n",
        "one = np.ones((3, 4))\n",
        "print(one)"
      ],
      "metadata": {
        "colab": {
          "base_uri": "https://localhost:8080/"
        },
        "id": "foZVHKTwTZ7y",
        "outputId": "4931760a-3ddb-4507-ac07-82890b9d844b"
      },
      "execution_count": null,
      "outputs": [
        {
          "output_type": "stream",
          "name": "stdout",
          "text": [
            "[[1. 1. 1. 1.]\n",
            " [1. 1. 1. 1.]\n",
            " [1. 1. 1. 1.]]\n"
          ]
        }
      ]
    },
    {
      "cell_type": "code",
      "source": [
        "# Lab 1-3\n",
        "arr = np.linspace(0, 1, 10)\n",
        "print(arr)"
      ],
      "metadata": {
        "colab": {
          "base_uri": "https://localhost:8080/"
        },
        "id": "pYEqA732T5Ts",
        "outputId": "36a750aa-ad9e-4f34-fdcc-e9bfb0948f9b"
      },
      "execution_count": null,
      "outputs": [
        {
          "output_type": "stream",
          "name": "stdout",
          "text": [
            "[0.         0.11111111 0.22222222 0.33333333 0.44444444 0.55555556\n",
            " 0.66666667 0.77777778 0.88888889 1.        ]\n"
          ]
        }
      ]
    },
    {
      "cell_type": "code",
      "source": [
        "# Lab 2\n",
        "A = np.array([[1, 2, 3, 4, 5], [6, 7, 8, 9, 10], [11, 12, 13, 14, 15], [16, 17, 18, 19, 20], [21, 22, 23, 24, 25]])\n",
        "\n",
        "#모양 출력\n",
        "print(A.shape)\n",
        "\n",
        "# 19 값 출력\n",
        "print(A[3, 3])\n",
        "\n",
        "# [[1,2], [6, 7]] 값 출력\n",
        "print(A[:2, :2])\n",
        "\n",
        "#[[19, 20], [24, 25]] 값 출력\n",
        "print(A[3: , 3: ])\n",
        "\n",
        "#1행, 2행 출력 - 열 인덱스 생략 가능\n",
        "print(A[:2, ])\n",
        "\n",
        "#4열, 5열 출력 - 행은 생략 불가(: 쳐야 함)\n",
        "print(A[ : ,3:])"
      ],
      "metadata": {
        "colab": {
          "base_uri": "https://localhost:8080/"
        },
        "id": "EcJHPBArUD-3",
        "outputId": "bc71ad60-55ea-4c9a-bf05-195da05027d6"
      },
      "execution_count": 10,
      "outputs": [
        {
          "output_type": "stream",
          "name": "stdout",
          "text": [
            "(5, 5)\n",
            "19\n",
            "[[1 2]\n",
            " [6 7]]\n",
            "[[19 20]\n",
            " [24 25]]\n",
            "[[ 1  2  3  4  5]\n",
            " [ 6  7  8  9 10]]\n",
            "[[ 4  5]\n",
            " [ 9 10]\n",
            " [14 15]\n",
            " [19 20]\n",
            " [24 25]]\n"
          ]
        }
      ]
    },
    {
      "cell_type": "code",
      "source": [
        "B = np.array([[[1, 2, 3, 4],\n",
        "               [5, 6, 7, 8],\n",
        "               [9, 10, 11, 12],\n",
        "\n",
        "               [13, 14, 15, 16],\n",
        "               [17, 18, 19, 20],\n",
        "              [21, 22, 23, 24]],\n",
        "\n",
        "              [[25, 26, 27, 28],\n",
        "              [29, 30, 31, 32],\n",
        "              [33, 34, 35, 36]]])\n",
        "\n",
        "# 1차원으로 배열 만들고 rehape(3, 3, 4)로 3차원으로 배열 바꿈"
      ],
      "metadata": {
        "id": "2RQCcMQfb8UC"
      },
      "execution_count": null,
      "outputs": []
    },
    {
      "cell_type": "code",
      "source": [
        "# Lab 3\n",
        "\n",
        "# 행렬 생성\n",
        "B = np.arange(1, 37)\n",
        "B = B.reshape(3, 3, 4)\n",
        "print(B)\n",
        "\n",
        "# 모양, 크기 출력\n",
        "print(B.shape)\n",
        "print(B.size)\n",
        "\n",
        "#모양 (3, 4, 3)으로 변경\n",
        "newB = B.reshape(3, 4, 3)\n",
        "print(newB)\n",
        "\n",
        "# 1차원 배열로 구성\n",
        "newB2 = B.flatten()\n",
        "print(newB2)"
      ],
      "metadata": {
        "id": "ey-FYSs6Y4XT",
        "colab": {
          "base_uri": "https://localhost:8080/"
        },
        "outputId": "2c470496-cfd2-48f5-9585-e4e190810960"
      },
      "execution_count": 21,
      "outputs": [
        {
          "output_type": "stream",
          "name": "stdout",
          "text": [
            "[[[ 1  2  3  4]\n",
            "  [ 5  6  7  8]\n",
            "  [ 9 10 11 12]]\n",
            "\n",
            " [[13 14 15 16]\n",
            "  [17 18 19 20]\n",
            "  [21 22 23 24]]\n",
            "\n",
            " [[25 26 27 28]\n",
            "  [29 30 31 32]\n",
            "  [33 34 35 36]]]\n",
            "(3, 3, 4)\n",
            "36\n",
            "[[[ 1  2  3]\n",
            "  [ 4  5  6]\n",
            "  [ 7  8  9]\n",
            "  [10 11 12]]\n",
            "\n",
            " [[13 14 15]\n",
            "  [16 17 18]\n",
            "  [19 20 21]\n",
            "  [22 23 24]]\n",
            "\n",
            " [[25 26 27]\n",
            "  [28 29 30]\n",
            "  [31 32 33]\n",
            "  [34 35 36]]]\n",
            "[ 1  2  3  4  5  6  7  8  9 10 11 12 13 14 15 16 17 18 19 20 21 22 23 24\n",
            " 25 26 27 28 29 30 31 32 33 34 35 36]\n"
          ]
        }
      ]
    },
    {
      "cell_type": "code",
      "source": [],
      "metadata": {
        "id": "TocH_ZU3LZyh"
      },
      "execution_count": null,
      "outputs": []
    }
  ]
}