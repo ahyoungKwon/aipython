{
  "nbformat": 4,
  "nbformat_minor": 0,
  "metadata": {
    "colab": {
      "provenance": [],
      "authorship_tag": "ABX9TyMHlViSrQwMoxT8YIfgKwQd",
      "include_colab_link": true
    },
    "kernelspec": {
      "name": "python3",
      "display_name": "Python 3"
    },
    "language_info": {
      "name": "python"
    }
  },
  "cells": [
    {
      "cell_type": "markdown",
      "metadata": {
        "id": "view-in-github",
        "colab_type": "text"
      },
      "source": [
        "<a href=\"https://colab.research.google.com/github/ahyoungKwon/aipython/blob/main/ai_240329.ipynb\" target=\"_parent\"><img src=\"https://colab.research.google.com/assets/colab-badge.svg\" alt=\"Open In Colab\"/></a>"
      ]
    },
    {
      "cell_type": "code",
      "execution_count": 11,
      "metadata": {
        "colab": {
          "base_uri": "https://localhost:8080/"
        },
        "id": "JXTbHvTW0W5J",
        "outputId": "d2054d36-41e7-44b1-d077-33b515566fd9"
      },
      "outputs": [
        {
          "output_type": "stream",
          "name": "stdout",
          "text": [
            "567\n",
            "567 -> 9 시간 27 분\n"
          ]
        }
      ],
      "source": [
        "#분을 입력받아 시간과 분 출력하기\n",
        "int_min = int(input(\"분을 입력하세요: \"))\n",
        "hour = int_min//60\n",
        "min = int_min%60\n",
        "print(int_min, \"->\", hour, \"시간\", min, \"분\")"
      ]
    },
    {
      "cell_type": "code",
      "source": [
        "#섭씨 온도를 입력 받아 화씨 온도 출력하기\n",
        "c = int(input(\"섭씨 온도를 입력하세요: \"))\n",
        "f = c * 1.8 + 32\n",
        "print(\"섭씨 %d도는 화씨 %.1f도 입니다.\"%(c, f))"
      ],
      "metadata": {
        "colab": {
          "base_uri": "https://localhost:8080/"
        },
        "id": "7FGB7_W8CAff",
        "outputId": "bc81de32-fc94-4b5e-a778-7ac0aed0b430"
      },
      "execution_count": 4,
      "outputs": [
        {
          "output_type": "stream",
          "name": "stdout",
          "text": [
            "31\n",
            "섭씨 31 도는 화씨 87.8도 입니다.\n"
          ]
        }
      ]
    },
    {
      "cell_type": "code",
      "source": [
        "#원의 반지름을 입력받아 원의 둘레와 면적 출력하기\n",
        "r = int(input(\"원의 반지름을 입력하세요: \"))\n",
        "PI = 3.14\n",
        "l = 2 * PI * r\n",
        "s = PI * (r**2)\n",
        "print(\"반지름이 {}인 원의 둘레는 {:.1f}이고 면적은 {:.1f}입니다.\".format(r, l, s))"
      ],
      "metadata": {
        "colab": {
          "base_uri": "https://localhost:8080/"
        },
        "id": "nk7faMYmCjpP",
        "outputId": "0f08b739-d809-456a-e7e4-62718f8486b4"
      },
      "execution_count": 14,
      "outputs": [
        {
          "output_type": "stream",
          "name": "stdout",
          "text": [
            "원의 반지름을 입력하세요: 15\n",
            "반지름이 15인 원의 둘레는 94.2이고 면적은 706.5입니다.\n"
          ]
        }
      ]
    },
    {
      "cell_type": "code",
      "source": [
        "string = \"python\"\n",
        "print(string[0])"
      ],
      "metadata": {
        "colab": {
          "base_uri": "https://localhost:8080/"
        },
        "id": "IiOSV9TCDoiX",
        "outputId": "fdbe13a5-c281-4e1c-89e6-459140a85539"
      },
      "execution_count": 15,
      "outputs": [
        {
          "output_type": "stream",
          "name": "stdout",
          "text": [
            "p\n"
          ]
        }
      ]
    },
    {
      "cell_type": "code",
      "source": [
        "a = \"python\"\n",
        "print(a[::3])"
      ],
      "metadata": {
        "colab": {
          "base_uri": "https://localhost:8080/"
        },
        "id": "fxqvYokmKZPz",
        "outputId": "a1ba095e-38cc-4329-f2c0-7e6298a6e944"
      },
      "execution_count": 19,
      "outputs": [
        {
          "output_type": "stream",
          "name": "stdout",
          "text": [
            "ph\n"
          ]
        }
      ]
    },
    {
      "cell_type": "code",
      "source": [],
      "metadata": {
        "id": "QfN1ztdnLfBS"
      },
      "execution_count": null,
      "outputs": []
    }
  ]
}