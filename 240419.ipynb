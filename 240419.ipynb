{
  "nbformat": 4,
  "nbformat_minor": 0,
  "metadata": {
    "colab": {
      "provenance": [],
      "authorship_tag": "ABX9TyPRqyEiAo4JQoxuF12wXIKE",
      "include_colab_link": true
    },
    "kernelspec": {
      "name": "python3",
      "display_name": "Python 3"
    },
    "language_info": {
      "name": "python"
    }
  },
  "cells": [
    {
      "cell_type": "markdown",
      "metadata": {
        "id": "view-in-github",
        "colab_type": "text"
      },
      "source": [
        "<a href=\"https://colab.research.google.com/github/ahyoungKwon/aipython/blob/main/240419.ipynb\" target=\"_parent\"><img src=\"https://colab.research.google.com/assets/colab-badge.svg\" alt=\"Open In Colab\"/></a>"
      ]
    },
    {
      "cell_type": "code",
      "execution_count": 2,
      "metadata": {
        "id": "YymSffyX1hF-",
        "colab": {
          "base_uri": "https://localhost:8080/"
        },
        "outputId": "ec287ce3-7b82-4df5-91ec-176708825ac8"
      },
      "outputs": [
        {
          "output_type": "stream",
          "name": "stdout",
          "text": [
            "학생의 점수를 입력하세요.p[][\n",
            "정수형 데이터를 입력해주세요.\n"
          ]
        }
      ],
      "source": [
        "#과제 - 미완\n",
        "score = []\n",
        "for i in range(3):\n",
        "  score1 = input(\"학생의 점수를 입력하세요.\")\n",
        "  if not score1.isdigit():\n",
        "        print(\"정수형 데이터를 입력해주세요.\")\n",
        "        break\n",
        "  score.append(int(score1))\n",
        "\n",
        "if len(score) == 3:\n",
        "  print(\"입력 데이터 출력:\", score)\n",
        "  print(\"합계 :\", sum(score))\n",
        "  print(\"인원수 :\", min(score))\n",
        "  print(\"평균 : \", sum(score)/len(score))"
      ]
    },
    {
      "cell_type": "code",
      "source": [
        "#과제 - while문\n",
        "\n",
        "scores = []\n",
        "while True:\n",
        "  score = input(\"학생의 점수를 입력하세요.\")\n",
        "  if score.isdigit():\n",
        "    scores.append(int(score))\n",
        "  else :\n",
        "    break\n",
        "\n",
        "print(\"입력 데이터 출력:\", scores)\n",
        "print(\"합계 :\", sum(scores))\n",
        "print(\"인원수 :\", min(scores))\n",
        "print(\"평균 : \", sum(scores)/len(scores))"
      ],
      "metadata": {
        "colab": {
          "base_uri": "https://localhost:8080/"
        },
        "id": "1g7HZgJQ_t8r",
        "outputId": "ea774756-4607-42c3-d455-7b38276865fe"
      },
      "execution_count": 9,
      "outputs": [
        {
          "output_type": "stream",
          "name": "stdout",
          "text": [
            "학생의 점수를 입력하세요.70\n",
            "학생의 점수를 입력하세요.80\n",
            "학생의 점수를 입력하세요.90\n",
            "학생의 점수를 입력하세요.ㅔ\n",
            "입력 데이터 출력: [70, 80, 90]\n",
            "합계 : 240\n",
            "인원수 : 70\n",
            "평균 :  80.0\n"
          ]
        }
      ]
    },
    {
      "cell_type": "code",
      "source": [
        "#한 행씩 출력\n",
        "score = [[29, 28, 27, 30],\n",
        "         [30, 20, 27, 29],\n",
        "         [23, 25, 29, 30]]\n",
        "\n",
        "for sc in score :\n",
        "  print(sc)"
      ],
      "metadata": {
        "colab": {
          "base_uri": "https://localhost:8080/"
        },
        "id": "8E9JoPWm8jZw",
        "outputId": "d43ab5a9-3045-4f61-a172-6efb95e98713"
      },
      "execution_count": 4,
      "outputs": [
        {
          "output_type": "stream",
          "name": "stdout",
          "text": [
            "[29, 28, 27, 30]\n",
            "[30, 20, 27, 29]\n",
            "[23, 25, 29, 30]\n"
          ]
        }
      ]
    },
    {
      "cell_type": "code",
      "source": [
        "score = [[29, 28, 27, 30],\n",
        "         [30, 20, 27, 29],\n",
        "         [23, 25, 29, 30]]\n",
        "\n",
        "for r in range(3):\n",
        "  for c in range(4):\n",
        "    print(score[r][c], end = \" \")\n",
        "  print()"
      ],
      "metadata": {
        "colab": {
          "base_uri": "https://localhost:8080/"
        },
        "id": "NLuqw8lU9je6",
        "outputId": "910d02b5-186a-4778-cbe4-b0f2579cba19"
      },
      "execution_count": 5,
      "outputs": [
        {
          "output_type": "stream",
          "name": "stdout",
          "text": [
            "29 28 27 30 \n",
            "30 20 27 29 \n",
            "23 25 29 30 \n"
          ]
        }
      ]
    },
    {
      "cell_type": "code",
      "source": [
        "score = [[29, 28, 27, 30],\n",
        "         [30, 20, 27, 29],\n",
        "         [23, 25, 29, 30]]\n",
        "\n",
        "for sc in score: #한 줄씩 출력 = 3번 반복\n",
        "  for c in sc: #개별 요소 하나씩 출력 = 4번 반복\n",
        "    print(c, end = \" \")\n",
        "  print()"
      ],
      "metadata": {
        "colab": {
          "base_uri": "https://localhost:8080/"
        },
        "id": "yJD7M7yH-0cC",
        "outputId": "7a1b6908-6ca2-4016-dd2c-36fb16803bcd"
      },
      "execution_count": 6,
      "outputs": [
        {
          "output_type": "stream",
          "name": "stdout",
          "text": [
            "29 28 27 30 \n",
            "30 20 27 29 \n",
            "23 25 29 30 \n"
          ]
        }
      ]
    },
    {
      "cell_type": "code",
      "source": [
        "score = [[29, 28, 27, 30],\n",
        "         [30, 20, 27, 29],\n",
        "         [23, 25, 29, 30]]\n",
        "\n",
        "for c1, c2, c3, c4 in score: #행 개수(3)만큼 반복\n",
        "  print(c1, c2, c3, c4) #개별 요소"
      ],
      "metadata": {
        "colab": {
          "base_uri": "https://localhost:8080/"
        },
        "id": "dp2_ZwQVBkck",
        "outputId": "9d80cc44-5ee1-4260-c078-25468c1acdb6"
      },
      "execution_count": 10,
      "outputs": [
        {
          "output_type": "stream",
          "name": "stdout",
          "text": [
            "29 28 27 30\n",
            "30 20 27 29\n",
            "23 25 29 30\n"
          ]
        }
      ]
    },
    {
      "cell_type": "code",
      "source": [
        "#딕셔너리"
      ],
      "metadata": {
        "id": "zHJX5WRnCyEq"
      },
      "execution_count": null,
      "outputs": []
    },
    {
      "cell_type": "code",
      "source": [
        "strings = {'Python', 'Java', 'Ruby'}\n",
        "sentence = '->'.join(strings)\n",
        "print(sentence)"
      ],
      "metadata": {
        "colab": {
          "base_uri": "https://localhost:8080/"
        },
        "id": "jiKnZYUVIf7r",
        "outputId": "b698ac0e-3554-453f-8564-e998605fc84a"
      },
      "execution_count": 11,
      "outputs": [
        {
          "output_type": "stream",
          "name": "stdout",
          "text": [
            "Ruby->Python->Java\n"
          ]
        }
      ]
    },
    {
      "cell_type": "code",
      "source": [
        "#리스트컴프리헨션 1\n",
        "number_list = [x for x in range(1, 11) if x % 2 == 0]\n",
        "print(number_list)"
      ],
      "metadata": {
        "colab": {
          "base_uri": "https://localhost:8080/"
        },
        "id": "rsCBE0hDLumq",
        "outputId": "ac577a88-1c02-4e03-d514-eda83e89b4b7"
      },
      "execution_count": 14,
      "outputs": [
        {
          "output_type": "stream",
          "name": "stdout",
          "text": [
            "[2, 4, 6, 8, 10]\n"
          ]
        }
      ]
    },
    {
      "cell_type": "code",
      "source": [
        "#리스트컴프리헨션 2\n",
        "city = [\"Seoul\", \"New York\", \"London\", \"Shanghai\", \"Paris\", \"Tokyo\"]\n",
        "s_cities = [c for c in city if c.startswith('S') or c.startswith('s')] #c: 도시명, startswith: 문자열이 특정 글자로 시작하는지 확인\n",
        "print(s_cities)"
      ],
      "metadata": {
        "colab": {
          "base_uri": "https://localhost:8080/"
        },
        "id": "WbXUf4sBMOPi",
        "outputId": "b14909d5-933f-48ed-e5e8-564db983c4e4"
      },
      "execution_count": 15,
      "outputs": [
        {
          "output_type": "stream",
          "name": "stdout",
          "text": [
            "['Seoul', 'Shanghai']\n"
          ]
        }
      ]
    },
    {
      "cell_type": "code",
      "source": [
        "numbers = [1, 2, 3, 4, 5, 6, 7, 8, 9, 10]\n",
        "\n",
        "even = list(filter(lambda x : x % 2 == 0, numbers))\n",
        "print(even)"
      ],
      "metadata": {
        "id": "IVe6RlSOPJEE"
      },
      "execution_count": null,
      "outputs": []
    },
    {
      "cell_type": "code",
      "source": [
        "number_list = [x**2 for x in range(10) if x % 2 == 0]\n",
        "print(number_list)"
      ],
      "metadata": {
        "id": "pp1mpM2VYMrb"
      },
      "execution_count": null,
      "outputs": []
    },
    {
      "cell_type": "code",
      "source": [
        "numbers = [1, 2, 3, 4, 5, 6, 7, 8, 9, 10]\n",
        "\n",
        "even = list(filter(lambda x : x % 2 == 0, numbers))\n",
        "print(even)"
      ],
      "metadata": {
        "id": "WOUWbhP2YSN7"
      },
      "execution_count": null,
      "outputs": []
    },
    {
      "cell_type": "code",
      "source": [
        "x = ['Python', 'Java', 'JavaScript']\n",
        "newlist = [(idx + 1, value) for idx, value in enumerate(x)]\n",
        "print(newlist)"
      ],
      "metadata": {
        "id": "9_Ub4JEaYUwq"
      },
      "execution_count": null,
      "outputs": []
    },
    {
      "cell_type": "code",
      "source": [
        "def myFunc(x):\n",
        "  if x < 18:\n",
        "    return False\n",
        "  else:\n",
        "    return True\n",
        "\n",
        "ages = [5, 12, 17, 18, 24, 32]\n",
        "\n",
        "#new = list(filter(myFunc, ages))\n",
        "#print(new)\n",
        "\n",
        "new = list(filter(lambda age: age >= 18, ages))\n",
        "print(new)"
      ],
      "metadata": {
        "id": "E2ZtysXaYaIS"
      },
      "execution_count": null,
      "outputs": []
    }
  ]
}